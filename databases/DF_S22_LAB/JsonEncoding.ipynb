{
 "cells": [
  {
   "cell_type": "code",
   "execution_count": null,
   "metadata": {
    "collapsed": false,
    "run_control": {
     "frozen": false,
     "read_only": false
    }
   },
   "outputs": [],
   "source": [
    "%matplotlib inline\n",
    "import sys\n",
    "sys.path.insert(1, '/Users/loriab/linux/qcdb')\n",
    "import qcdb"
   ]
  },
  {
   "cell_type": "code",
   "execution_count": null,
   "metadata": {
    "collapsed": false
   },
   "outputs": [],
   "source": [
    "%cd /Users/loriab/linux/mongo_qcdb/DF_S22_LAB/"
   ]
  },
  {
   "cell_type": "code",
   "execution_count": null,
   "metadata": {
    "collapsed": false,
    "run_control": {
     "frozen": false,
     "read_only": false
    }
   },
   "outputs": [],
   "source": [
    "s22 = qcdb.Database('s22', loadfrompickle=True)\n",
    "print s22.available_projects()\n",
    "#for pj in bfdb.available_projects():\n",
    "#    bfdb.load_qcdata_byproject(pj)\n",
    "#s22.load_qcdata_byproject('saptone')"
   ]
  },
  {
   "cell_type": "code",
   "execution_count": null,
   "metadata": {
    "collapsed": false,
    "run_control": {
     "frozen": false,
     "read_only": false
    }
   },
   "outputs": [],
   "source": [
    "import json\n",
    "import collections"
   ]
  },
  {
   "cell_type": "code",
   "execution_count": null,
   "metadata": {
    "collapsed": false,
    "run_control": {
     "frozen": false,
     "read_only": false
    }
   },
   "outputs": [],
   "source": [
    "import hashlib\n",
    "\n",
    "def mongoqcdb_hasher(obj):\n",
    "\n",
    "    hash_fields = []\n",
    "    if isinstance(obj, qcdb.dbwrap.Reagent):\n",
    "        hash_fields = [\"symbols\", \"masses\", \"name\", \"charge\", \"multiplicity\", \"real\", \"geometry\", \"fragments\", \"fragment_charges\", \"fragment_multiplicities\"]\n",
    "    #hash_fields[\"databases\"] = [\"name\"]\n",
    "    #hash_fields[\"pages\"] = [\"molecule\", \"method\"]\n",
    "\n",
    "    data = mongoqcdb_translator(obj)\n",
    "    \n",
    "    m = hashlib.sha1()\n",
    "    concat = ''\n",
    "    for field in hash_fields:\n",
    "        concat += json.dumps(data[field])\n",
    "    m.update(concat.encode('utf-8'))\n",
    "    digest = m.hexdigest()\n",
    "    return digest"
   ]
  },
  {
   "cell_type": "code",
   "execution_count": null,
   "metadata": {
    "collapsed": false,
    "run_control": {
     "frozen": false,
     "read_only": false
    }
   },
   "outputs": [],
   "source": [
    "def mongoqcdb_translator(obj):\n",
    "    \"\"\"Translates member data of QCDb object *obj* into fields for MongoQCDb.\"\"\"\n",
    "    \n",
    "    dat = {}\n",
    "    if isinstance(obj, qcdb.dbwrap.Reagent):\n",
    "        dat['name'] = obj.name\n",
    "        dat['comment'] = obj.tagl\n",
    "        omol = qcdb.Molecule(obj.mol)\n",
    "        omol.update_geometry()\n",
    "        dat['charge'] = omol.molecular_charge()\n",
    "        dat['multiplicity'] = omol.multiplicity()\n",
    "        dat['symbols'] = []\n",
    "        dat['masses'] = []\n",
    "        dat['real'] = []\n",
    "        dat['geometry'] = []\n",
    "        dat['fragments'] = []\n",
    "        dat['fragment_charges'] = []\n",
    "        dat['fragment_multiplicities'] = []\n",
    "        for iat in range(omol.natom()):\n",
    "            dat['symbols'].append(omol.symbol(iat))\n",
    "            dat['masses'].append(omol.mass(iat))\n",
    "            dat['geometry'].append(omol.xyz(iat))\n",
    "            if omol.Z(iat):\n",
    "                dat['real'].append(True)\n",
    "            else:\n",
    "                dat['real'].append(False)\n",
    "        for ifr in range(omol.nfragments()):  # 0-indexed\n",
    "            dat['fragments'].append(list(range(omol.fragments[ifr][0], \n",
    "                                               omol.fragments[ifr][1] + 1)))\n",
    "            dat['fragment_charges'].append(omol.fragment_charges[ifr])\n",
    "            dat['fragment_multiplicities'].append(omol.fragment_multiplicities[ifr])\n",
    "\n",
    "    elif isinstance(obj, qcdb.dbwrap.Reaction):\n",
    "        dat['name'] = obj.name\n",
    "        dat['comment'] = obj.tagl\n",
    "        dat['stoichiometry'] = {}\n",
    "        for mode, rxnm in obj.rxnm.iteritems():\n",
    "            dat['stoichiometry'][mode] = collections.OrderedDict()\n",
    "            for rgt, coeff in rxnm.iteritems():\n",
    "                rgthash = mongoqcdb_hasher(rgt)\n",
    "                dat['stoichiometry'][mode][rgthash] = coeff\n",
    "        dat['reaction_results'] = sorted(obj.data.keys())  # really methods, not data or mc or something?\n",
    "        #for label, datum in sorted(self.data.iteritems()):\n",
    "        dat['benchmark'] = obj.benchmark\n",
    "        \n",
    "    elif isinstance(obj, qcdb.dbwrap.WrappedDatabase):\n",
    "        dat['name'] = obj.dbse\n",
    "        dat['comment'] = obj.tagl\n",
    "        dat['reactions'] = {}\n",
    "#             dat['reagents'] = {}\n",
    "#             dat['subsets'] = {}\n",
    "#             dat['orderedsubsets'] = {}\n",
    "        for rxn in obj.hrxn:\n",
    "            dat['reactions'][rxn] = json.dumps(obj.hrxn[rxn], cls=MongoQCDbEncoder)\n",
    "\n",
    "    return dat\n",
    "\n",
    "\n",
    "class MongoQCDbEncoder(json.JSONEncoder):\n",
    "    def default(self, obj):\n",
    "        if isinstance(obj, qcdb.dbwrap.Reagent) or \\\n",
    "           isinstance(obj, qcdb.dbwrap.Reaction) or \\\n",
    "           isinstance(obj, qcdb.dbwrap.WrappedDatabase):\n",
    "            dat = mongoqcdb_translator(obj)\n",
    "\n",
    "            if isinstance(obj, qcdb.dbwrap.WrappedDatabase):\n",
    "                name = obj.dbse\n",
    "            else:\n",
    "                name = obj.name\n",
    "            \n",
    "            if isinstance(obj, qcdb.dbwrap.Reagent):\n",
    "                rhash = mongoqcdb_hasher(obj)\n",
    "            else:\n",
    "                rhash = 'unhashed'\n",
    "\n",
    "            print(\"\"\"\\nJSONEncoded {} {} as {}\"\"\".format(obj.__class__.__name__, name, rhash))\n",
    "            return dat\n",
    "        else:\n",
    "            return json.JSONEncoder.default(self, obj)"
   ]
  },
  {
   "cell_type": "code",
   "execution_count": null,
   "metadata": {
    "collapsed": false
   },
   "outputs": [],
   "source": [
    "with open('databases/S22_DB.json', 'w') as handle:\n",
    "    json.dump(s22.dbdict['S22'], handle, indent=4, cls=MongoQCDbEncoder)"
   ]
  },
  {
   "cell_type": "code",
   "execution_count": null,
   "metadata": {
    "collapsed": false,
    "run_control": {
     "frozen": false,
     "read_only": false
    },
    "scrolled": false
   },
   "outputs": [],
   "source": [
    "# print json.dumps(s22.dbdict['S22'], cls=MongoQCDbEncoder)\n",
    "# print json.dumps(s22.hrgt['S22-16-monoB-CP'], cls=MongoQCDbEncoder)\n",
    "# print json.dumps(s22.hrgt['S22-16-monoB-unCP'], cls=MongoQCDbEncoder)"
   ]
  },
  {
   "cell_type": "code",
   "execution_count": null,
   "metadata": {
    "collapsed": false,
    "run_control": {
     "frozen": false,
     "read_only": false
    }
   },
   "outputs": [],
   "source": [
    "for rgt, orgt in s22.hrgt.iteritems():\n",
    "    hrgt = mongoqcdb_hasher(orgt)\n",
    "    print rgt, hrgt\n",
    "    with open('molecules/{}.json'.format(hrgt), 'w') as handle:\n",
    "        json.dump(s22.hrgt[rgt], handle, indent=4, cls=MongoQCDbEncoder)"
   ]
  },
  {
   "cell_type": "code",
   "execution_count": null,
   "metadata": {
    "collapsed": true,
    "run_control": {
     "frozen": false,
     "read_only": false
    }
   },
   "outputs": [],
   "source": []
  }
 ],
 "metadata": {
  "anaconda-cloud": {},
  "kernelspec": {
   "display_name": "Python [spandas15]",
   "language": "python",
   "name": "Python [spandas15]"
  },
  "language_info": {
   "codemirror_mode": {
    "name": "ipython",
    "version": 2
   },
   "file_extension": ".py",
   "mimetype": "text/x-python",
   "name": "python",
   "nbconvert_exporter": "python",
   "pygments_lexer": "ipython2",
   "version": "2.7.12"
  }
 },
 "nbformat": 4,
 "nbformat_minor": 0
}
